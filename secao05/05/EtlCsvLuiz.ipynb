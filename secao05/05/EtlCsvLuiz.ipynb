{
 "cells": [
  {
   "cell_type": "code",
   "execution_count": 149,
   "id": "314bc9e3",
   "metadata": {},
   "outputs": [],
   "source": [
    "import pandas as pd\n",
    "from IPython.display import Image #Conseguimos ver uma imagem pelo URL\n",
    "from google.oauth2 import service_account"
   ]
  },
  {
   "cell_type": "code",
   "execution_count": 147,
   "id": "69436aa3",
   "metadata": {},
   "outputs": [
    {
     "name": "stdout",
     "output_type": "stream",
     "text": [
      "Collecting google-auth\n",
      "  Downloading google_auth-2.11.1-py2.py3-none-any.whl (167 kB)\n",
      "Collecting pyasn1-modules>=0.2.1\n",
      "  Downloading pyasn1_modules-0.2.8-py2.py3-none-any.whl (155 kB)\n",
      "Collecting rsa<5,>=3.1.4\n",
      "  Downloading rsa-4.9-py3-none-any.whl (34 kB)\n",
      "Requirement already satisfied: six>=1.9.0 in c:\\users\\luiz_\\anaconda3\\lib\\site-packages (from google-auth) (1.16.0)\n",
      "Collecting cachetools<6.0,>=2.0.0\n",
      "  Downloading cachetools-5.2.0-py3-none-any.whl (9.3 kB)\n",
      "Collecting pyasn1<0.5.0,>=0.4.6\n",
      "  Downloading pyasn1-0.4.8-py2.py3-none-any.whl (77 kB)\n",
      "Installing collected packages: pyasn1, rsa, pyasn1-modules, cachetools, google-auth\n",
      "Successfully installed cachetools-5.2.0 google-auth-2.11.1 pyasn1-0.4.8 pyasn1-modules-0.2.8 rsa-4.9\n",
      "Note: you may need to restart the kernel to use updated packages.\n"
     ]
    }
   ],
   "source": []
  },
  {
   "cell_type": "code",
   "execution_count": 39,
   "id": "9ce8b958",
   "metadata": {},
   "outputs": [],
   "source": [
    "### Extracao dos dados\n",
    "\n",
    "dfContrato = pd.read_csv('tabela_contratos.csv')\n",
    "dfDatas = pd.read_csv('tabela_datas.csv')\n",
    "dfEmpresas = pd.read_csv('tabela_empresas.csv')"
   ]
  },
  {
   "cell_type": "code",
   "execution_count": 40,
   "id": "e596dab8",
   "metadata": {},
   "outputs": [
    {
     "data": {
      "text/html": [
       "<div>\n",
       "<style scoped>\n",
       "    .dataframe tbody tr th:only-of-type {\n",
       "        vertical-align: middle;\n",
       "    }\n",
       "\n",
       "    .dataframe tbody tr th {\n",
       "        vertical-align: top;\n",
       "    }\n",
       "\n",
       "    .dataframe thead th {\n",
       "        text-align: right;\n",
       "    }\n",
       "</style>\n",
       "<table border=\"1\" class=\"dataframe\">\n",
       "  <thead>\n",
       "    <tr style=\"text-align: right;\">\n",
       "      <th></th>\n",
       "      <th>id_contrato</th>\n",
       "      <th>nome_contrato</th>\n",
       "      <th>objeto_contrato</th>\n",
       "      <th>valor_contrato</th>\n",
       "      <th>inicio_vigencia</th>\n",
       "      <th>termino_vigencia</th>\n",
       "      <th>fk_empresa_contratada</th>\n",
       "    </tr>\n",
       "  </thead>\n",
       "  <tbody>\n",
       "    <tr>\n",
       "      <th>0</th>\n",
       "      <td>1</td>\n",
       "      <td>13/2012</td>\n",
       "      <td>Contratação de Empresa para Ministrar Curso de...</td>\n",
       "      <td>94947.23</td>\n",
       "      <td>4</td>\n",
       "      <td>32</td>\n",
       "      <td>1</td>\n",
       "    </tr>\n",
       "    <tr>\n",
       "      <th>1</th>\n",
       "      <td>2</td>\n",
       "      <td>Disp. Lic. 1</td>\n",
       "      <td>Prestação de serviço na confecção de Chaves</td>\n",
       "      <td>5234.00</td>\n",
       "      <td>13</td>\n",
       "      <td>33</td>\n",
       "      <td>2</td>\n",
       "    </tr>\n",
       "  </tbody>\n",
       "</table>\n",
       "</div>"
      ],
      "text/plain": [
       "   id_contrato nome_contrato  \\\n",
       "0            1       13/2012   \n",
       "1            2  Disp. Lic. 1   \n",
       "\n",
       "                                     objeto_contrato  valor_contrato  \\\n",
       "0  Contratação de Empresa para Ministrar Curso de...        94947.23   \n",
       "1        Prestação de serviço na confecção de Chaves         5234.00   \n",
       "\n",
       "   inicio_vigencia  termino_vigencia  fk_empresa_contratada  \n",
       "0                4                32                      1  \n",
       "1               13                33                      2  "
      ]
     },
     "execution_count": 40,
     "metadata": {},
     "output_type": "execute_result"
    }
   ],
   "source": [
    "dfContrato.head(2)"
   ]
  },
  {
   "cell_type": "code",
   "execution_count": 41,
   "id": "c08e34d8",
   "metadata": {},
   "outputs": [
    {
     "data": {
      "text/html": [
       "<div>\n",
       "<style scoped>\n",
       "    .dataframe tbody tr th:only-of-type {\n",
       "        vertical-align: middle;\n",
       "    }\n",
       "\n",
       "    .dataframe tbody tr th {\n",
       "        vertical-align: top;\n",
       "    }\n",
       "\n",
       "    .dataframe thead th {\n",
       "        text-align: right;\n",
       "    }\n",
       "</style>\n",
       "<table border=\"1\" class=\"dataframe\">\n",
       "  <thead>\n",
       "    <tr style=\"text-align: right;\">\n",
       "      <th></th>\n",
       "      <th>id_data</th>\n",
       "      <th>data</th>\n",
       "    </tr>\n",
       "  </thead>\n",
       "  <tbody>\n",
       "    <tr>\n",
       "      <th>0</th>\n",
       "      <td>1</td>\n",
       "      <td>20/05/2014</td>\n",
       "    </tr>\n",
       "    <tr>\n",
       "      <th>1</th>\n",
       "      <td>2</td>\n",
       "      <td>27/09/2014</td>\n",
       "    </tr>\n",
       "  </tbody>\n",
       "</table>\n",
       "</div>"
      ],
      "text/plain": [
       "   id_data        data\n",
       "0        1  20/05/2014\n",
       "1        2  27/09/2014"
      ]
     },
     "execution_count": 41,
     "metadata": {},
     "output_type": "execute_result"
    }
   ],
   "source": [
    "dfDatas.head(2)"
   ]
  },
  {
   "cell_type": "code",
   "execution_count": 42,
   "id": "dbddc9cd",
   "metadata": {},
   "outputs": [
    {
     "data": {
      "text/html": [
       "<div>\n",
       "<style scoped>\n",
       "    .dataframe tbody tr th:only-of-type {\n",
       "        vertical-align: middle;\n",
       "    }\n",
       "\n",
       "    .dataframe tbody tr th {\n",
       "        vertical-align: top;\n",
       "    }\n",
       "\n",
       "    .dataframe thead th {\n",
       "        text-align: right;\n",
       "    }\n",
       "</style>\n",
       "<table border=\"1\" class=\"dataframe\">\n",
       "  <thead>\n",
       "    <tr style=\"text-align: right;\">\n",
       "      <th></th>\n",
       "      <th>id_empresa</th>\n",
       "      <th>nome_empresa</th>\n",
       "    </tr>\n",
       "  </thead>\n",
       "  <tbody>\n",
       "    <tr>\n",
       "      <th>0</th>\n",
       "      <td>1</td>\n",
       "      <td>Thomas Jefferson</td>\n",
       "    </tr>\n",
       "    <tr>\n",
       "      <th>1</th>\n",
       "      <td>2</td>\n",
       "      <td>Chaveiro City</td>\n",
       "    </tr>\n",
       "  </tbody>\n",
       "</table>\n",
       "</div>"
      ],
      "text/plain": [
       "   id_empresa      nome_empresa\n",
       "0           1  Thomas Jefferson\n",
       "1           2     Chaveiro City"
      ]
     },
     "execution_count": 42,
     "metadata": {},
     "output_type": "execute_result"
    }
   ],
   "source": [
    "dfEmpresas.head(2)"
   ]
  },
  {
   "cell_type": "markdown",
   "id": "9ebdbd64",
   "metadata": {},
   "source": [
    "### Transformacao dos dados"
   ]
  },
  {
   "cell_type": "code",
   "execution_count": 117,
   "id": "b65daf27",
   "metadata": {},
   "outputs": [],
   "source": [
    "dfContratosMerge = dfContrato.merge(dfEmpresas,\n",
    "                                    left_on='fk_empresa_contratada',\n",
    "                                    right_on='id_empresa',\n",
    "                                    how='left')"
   ]
  },
  {
   "cell_type": "code",
   "execution_count": 118,
   "id": "4ef1802a",
   "metadata": {},
   "outputs": [],
   "source": [
    "dfContratosMerge.drop(columns=['id_empresa', 'fk_empresa_contratada'], inplace=True)"
   ]
  },
  {
   "cell_type": "code",
   "execution_count": 119,
   "id": "b45af4fd",
   "metadata": {},
   "outputs": [
    {
     "data": {
      "text/html": [
       "<div>\n",
       "<style scoped>\n",
       "    .dataframe tbody tr th:only-of-type {\n",
       "        vertical-align: middle;\n",
       "    }\n",
       "\n",
       "    .dataframe tbody tr th {\n",
       "        vertical-align: top;\n",
       "    }\n",
       "\n",
       "    .dataframe thead th {\n",
       "        text-align: right;\n",
       "    }\n",
       "</style>\n",
       "<table border=\"1\" class=\"dataframe\">\n",
       "  <thead>\n",
       "    <tr style=\"text-align: right;\">\n",
       "      <th></th>\n",
       "      <th>id_contrato</th>\n",
       "      <th>nome_contrato</th>\n",
       "      <th>objeto_contrato</th>\n",
       "      <th>valor_contrato</th>\n",
       "      <th>inicio_vigencia</th>\n",
       "      <th>termino_vigencia</th>\n",
       "      <th>nome_empresa</th>\n",
       "    </tr>\n",
       "  </thead>\n",
       "  <tbody>\n",
       "    <tr>\n",
       "      <th>0</th>\n",
       "      <td>1</td>\n",
       "      <td>13/2012</td>\n",
       "      <td>Contratação de Empresa para Ministrar Curso de...</td>\n",
       "      <td>94947.23</td>\n",
       "      <td>4</td>\n",
       "      <td>32</td>\n",
       "      <td>Thomas Jefferson</td>\n",
       "    </tr>\n",
       "    <tr>\n",
       "      <th>1</th>\n",
       "      <td>2</td>\n",
       "      <td>Disp. Lic. 1</td>\n",
       "      <td>Prestação de serviço na confecção de Chaves</td>\n",
       "      <td>5234.00</td>\n",
       "      <td>13</td>\n",
       "      <td>33</td>\n",
       "      <td>Chaveiro City</td>\n",
       "    </tr>\n",
       "  </tbody>\n",
       "</table>\n",
       "</div>"
      ],
      "text/plain": [
       "   id_contrato nome_contrato  \\\n",
       "0            1       13/2012   \n",
       "1            2  Disp. Lic. 1   \n",
       "\n",
       "                                     objeto_contrato  valor_contrato  \\\n",
       "0  Contratação de Empresa para Ministrar Curso de...        94947.23   \n",
       "1        Prestação de serviço na confecção de Chaves         5234.00   \n",
       "\n",
       "   inicio_vigencia  termino_vigencia      nome_empresa  \n",
       "0                4                32  Thomas Jefferson  \n",
       "1               13                33     Chaveiro City  "
      ]
     },
     "execution_count": 119,
     "metadata": {},
     "output_type": "execute_result"
    }
   ],
   "source": [
    "dfContratosMerge.head(2)"
   ]
  },
  {
   "cell_type": "code",
   "execution_count": 120,
   "id": "4f6c18da",
   "metadata": {},
   "outputs": [],
   "source": [
    "dfContratosFinal = dfContratosMerge.merge(dfDatas,\n",
    "                                          left_on='inicio_vigencia',\n",
    "                                          right_on='id_data',\n",
    "                                          how='left')"
   ]
  },
  {
   "cell_type": "code",
   "execution_count": 121,
   "id": "44ad16c9",
   "metadata": {},
   "outputs": [],
   "source": [
    "dfContratosFinal.drop(columns=['inicio_vigencia','id_data'], inplace=True)"
   ]
  },
  {
   "cell_type": "code",
   "execution_count": 122,
   "id": "aee2da1d",
   "metadata": {},
   "outputs": [],
   "source": [
    "dfContratosFinal.rename(columns={'data': 'data_inicio_vigencia'}, inplace=True)"
   ]
  },
  {
   "cell_type": "code",
   "execution_count": 123,
   "id": "41372fde",
   "metadata": {},
   "outputs": [],
   "source": [
    "dfContratosFinal = dfContratosFinal.merge(dfDatas,\n",
    "                                          left_on='termino_vigencia',\n",
    "                                          right_on='id_data',\n",
    "                                          how='left')\n"
   ]
  },
  {
   "cell_type": "code",
   "execution_count": 124,
   "id": "ff30a382",
   "metadata": {},
   "outputs": [
    {
     "data": {
      "text/html": [
       "<div>\n",
       "<style scoped>\n",
       "    .dataframe tbody tr th:only-of-type {\n",
       "        vertical-align: middle;\n",
       "    }\n",
       "\n",
       "    .dataframe tbody tr th {\n",
       "        vertical-align: top;\n",
       "    }\n",
       "\n",
       "    .dataframe thead th {\n",
       "        text-align: right;\n",
       "    }\n",
       "</style>\n",
       "<table border=\"1\" class=\"dataframe\">\n",
       "  <thead>\n",
       "    <tr style=\"text-align: right;\">\n",
       "      <th></th>\n",
       "      <th>id_contrato</th>\n",
       "      <th>nome_contrato</th>\n",
       "      <th>objeto_contrato</th>\n",
       "      <th>valor_contrato</th>\n",
       "      <th>termino_vigencia</th>\n",
       "      <th>nome_empresa</th>\n",
       "      <th>data_inicio_vigencia</th>\n",
       "      <th>id_data</th>\n",
       "      <th>data</th>\n",
       "    </tr>\n",
       "  </thead>\n",
       "  <tbody>\n",
       "    <tr>\n",
       "      <th>0</th>\n",
       "      <td>1</td>\n",
       "      <td>13/2012</td>\n",
       "      <td>Contratação de Empresa para Ministrar Curso de...</td>\n",
       "      <td>94947.23</td>\n",
       "      <td>32</td>\n",
       "      <td>Thomas Jefferson</td>\n",
       "      <td>20/12/2014</td>\n",
       "      <td>32</td>\n",
       "      <td>19/12/2015</td>\n",
       "    </tr>\n",
       "  </tbody>\n",
       "</table>\n",
       "</div>"
      ],
      "text/plain": [
       "   id_contrato nome_contrato  \\\n",
       "0            1       13/2012   \n",
       "\n",
       "                                     objeto_contrato  valor_contrato  \\\n",
       "0  Contratação de Empresa para Ministrar Curso de...        94947.23   \n",
       "\n",
       "   termino_vigencia      nome_empresa data_inicio_vigencia  id_data  \\\n",
       "0                32  Thomas Jefferson           20/12/2014       32   \n",
       "\n",
       "         data  \n",
       "0  19/12/2015  "
      ]
     },
     "execution_count": 124,
     "metadata": {},
     "output_type": "execute_result"
    }
   ],
   "source": [
    "dfContratosFinal.head(1)"
   ]
  },
  {
   "cell_type": "code",
   "execution_count": 125,
   "id": "80055627",
   "metadata": {},
   "outputs": [],
   "source": [
    "dfContratosFinal.drop(columns=['termino_vigencia','id_data'], inplace=True)"
   ]
  },
  {
   "cell_type": "code",
   "execution_count": 126,
   "id": "4e152c28",
   "metadata": {},
   "outputs": [],
   "source": [
    "dfContratosFinal.rename(columns={'data':'data_fim_vigencia'}, inplace=True)"
   ]
  },
  {
   "cell_type": "code",
   "execution_count": 127,
   "id": "cc8401e4",
   "metadata": {},
   "outputs": [
    {
     "data": {
      "text/html": [
       "<div>\n",
       "<style scoped>\n",
       "    .dataframe tbody tr th:only-of-type {\n",
       "        vertical-align: middle;\n",
       "    }\n",
       "\n",
       "    .dataframe tbody tr th {\n",
       "        vertical-align: top;\n",
       "    }\n",
       "\n",
       "    .dataframe thead th {\n",
       "        text-align: right;\n",
       "    }\n",
       "</style>\n",
       "<table border=\"1\" class=\"dataframe\">\n",
       "  <thead>\n",
       "    <tr style=\"text-align: right;\">\n",
       "      <th></th>\n",
       "      <th>id_contrato</th>\n",
       "      <th>nome_contrato</th>\n",
       "      <th>objeto_contrato</th>\n",
       "      <th>valor_contrato</th>\n",
       "      <th>nome_empresa</th>\n",
       "      <th>data_inicio_vigencia</th>\n",
       "      <th>data_fim_vigencia</th>\n",
       "    </tr>\n",
       "  </thead>\n",
       "  <tbody>\n",
       "    <tr>\n",
       "      <th>0</th>\n",
       "      <td>1</td>\n",
       "      <td>13/2012</td>\n",
       "      <td>Contratação de Empresa para Ministrar Curso de...</td>\n",
       "      <td>94947.23</td>\n",
       "      <td>Thomas Jefferson</td>\n",
       "      <td>20/12/2014</td>\n",
       "      <td>19/12/2015</td>\n",
       "    </tr>\n",
       "    <tr>\n",
       "      <th>1</th>\n",
       "      <td>2</td>\n",
       "      <td>Disp. Lic. 1</td>\n",
       "      <td>Prestação de serviço na confecção de Chaves</td>\n",
       "      <td>5234.00</td>\n",
       "      <td>Chaveiro City</td>\n",
       "      <td>26/02/2015</td>\n",
       "      <td>31/12/2015</td>\n",
       "    </tr>\n",
       "    <tr>\n",
       "      <th>2</th>\n",
       "      <td>3</td>\n",
       "      <td>Disp. Lic. 2</td>\n",
       "      <td>Prestação de serviço na confecção de Carimbos</td>\n",
       "      <td>1800.00</td>\n",
       "      <td>HBL Carimbos</td>\n",
       "      <td>10/02/2015</td>\n",
       "      <td>31/12/2015</td>\n",
       "    </tr>\n",
       "    <tr>\n",
       "      <th>3</th>\n",
       "      <td>4</td>\n",
       "      <td>32/2014</td>\n",
       "      <td>Serviço de Telefônia Móvel</td>\n",
       "      <td>73915.08</td>\n",
       "      <td>Claro S/A</td>\n",
       "      <td>01/01/2015</td>\n",
       "      <td>31/12/2015</td>\n",
       "    </tr>\n",
       "    <tr>\n",
       "      <th>4</th>\n",
       "      <td>5</td>\n",
       "      <td>001/2014</td>\n",
       "      <td>Publicações no Diário Oficial da União</td>\n",
       "      <td>45000.00</td>\n",
       "      <td>Imprensa Nacional</td>\n",
       "      <td>27/01/2015</td>\n",
       "      <td>26/01/2016</td>\n",
       "    </tr>\n",
       "  </tbody>\n",
       "</table>\n",
       "</div>"
      ],
      "text/plain": [
       "   id_contrato nome_contrato  \\\n",
       "0            1       13/2012   \n",
       "1            2  Disp. Lic. 1   \n",
       "2            3  Disp. Lic. 2   \n",
       "3            4       32/2014   \n",
       "4            5      001/2014   \n",
       "\n",
       "                                     objeto_contrato  valor_contrato  \\\n",
       "0  Contratação de Empresa para Ministrar Curso de...        94947.23   \n",
       "1        Prestação de serviço na confecção de Chaves         5234.00   \n",
       "2      Prestação de serviço na confecção de Carimbos         1800.00   \n",
       "3                         Serviço de Telefônia Móvel        73915.08   \n",
       "4             Publicações no Diário Oficial da União        45000.00   \n",
       "\n",
       "        nome_empresa data_inicio_vigencia data_fim_vigencia  \n",
       "0   Thomas Jefferson           20/12/2014        19/12/2015  \n",
       "1      Chaveiro City           26/02/2015        31/12/2015  \n",
       "2       HBL Carimbos           10/02/2015        31/12/2015  \n",
       "3          Claro S/A           01/01/2015        31/12/2015  \n",
       "4  Imprensa Nacional           27/01/2015        26/01/2016  "
      ]
     },
     "execution_count": 127,
     "metadata": {},
     "output_type": "execute_result"
    }
   ],
   "source": [
    "dfContratosFinal.head()"
   ]
  },
  {
   "cell_type": "code",
   "execution_count": 128,
   "id": "921a6164",
   "metadata": {},
   "outputs": [
    {
     "data": {
      "text/plain": [
       "id_contrato             184\n",
       "nome_contrato           184\n",
       "objeto_contrato         184\n",
       "valor_contrato          184\n",
       "nome_empresa            184\n",
       "data_inicio_vigencia    184\n",
       "data_fim_vigencia       184\n",
       "dtype: int64"
      ]
     },
     "execution_count": 128,
     "metadata": {},
     "output_type": "execute_result"
    }
   ],
   "source": [
    "dfContratosFinal.count() ##Count identicos para todas as linhas, sem valores nulls!"
   ]
  },
  {
   "cell_type": "code",
   "execution_count": 129,
   "id": "1ba6d552",
   "metadata": {},
   "outputs": [
    {
     "data": {
      "text/plain": [
       "id_contrato               int64\n",
       "nome_contrato            object\n",
       "objeto_contrato          object\n",
       "valor_contrato          float64\n",
       "nome_empresa             object\n",
       "data_inicio_vigencia     object\n",
       "data_fim_vigencia        object\n",
       "dtype: object"
      ]
     },
     "execution_count": 129,
     "metadata": {},
     "output_type": "execute_result"
    }
   ],
   "source": [
    "dfContratosFinal.dtypes"
   ]
  },
  {
   "cell_type": "code",
   "execution_count": 130,
   "id": "41410a43",
   "metadata": {},
   "outputs": [],
   "source": [
    "dfContratosFinal.data_inicio_vigencia = pd.to_datetime(dfContratosFinal.data_inicio_vigencia, format='%d/%m/%Y').dt.date"
   ]
  },
  {
   "cell_type": "code",
   "execution_count": 131,
   "id": "dc431c85",
   "metadata": {},
   "outputs": [
    {
     "ename": "ValueError",
     "evalue": "day is out of range for month",
     "output_type": "error",
     "traceback": [
      "\u001b[1;31m---------------------------------------------------------------------------\u001b[0m",
      "\u001b[1;31mTypeError\u001b[0m                                 Traceback (most recent call last)",
      "\u001b[1;32m~\\anaconda3\\lib\\site-packages\\pandas\\core\\tools\\datetimes.py\u001b[0m in \u001b[0;36m_to_datetime_with_format\u001b[1;34m(arg, orig_arg, name, tz, fmt, exact, errors, infer_datetime_format)\u001b[0m\n\u001b[0;32m    508\u001b[0m         \u001b[1;32mtry\u001b[0m\u001b[1;33m:\u001b[0m\u001b[1;33m\u001b[0m\u001b[1;33m\u001b[0m\u001b[0m\n\u001b[1;32m--> 509\u001b[1;33m             \u001b[0mvalues\u001b[0m\u001b[1;33m,\u001b[0m \u001b[0mtz\u001b[0m \u001b[1;33m=\u001b[0m \u001b[0mconversion\u001b[0m\u001b[1;33m.\u001b[0m\u001b[0mdatetime_to_datetime64\u001b[0m\u001b[1;33m(\u001b[0m\u001b[0marg\u001b[0m\u001b[1;33m)\u001b[0m\u001b[1;33m\u001b[0m\u001b[1;33m\u001b[0m\u001b[0m\n\u001b[0m\u001b[0;32m    510\u001b[0m             \u001b[0mdta\u001b[0m \u001b[1;33m=\u001b[0m \u001b[0mDatetimeArray\u001b[0m\u001b[1;33m(\u001b[0m\u001b[0mvalues\u001b[0m\u001b[1;33m,\u001b[0m \u001b[0mdtype\u001b[0m\u001b[1;33m=\u001b[0m\u001b[0mtz_to_dtype\u001b[0m\u001b[1;33m(\u001b[0m\u001b[0mtz\u001b[0m\u001b[1;33m)\u001b[0m\u001b[1;33m)\u001b[0m\u001b[1;33m\u001b[0m\u001b[1;33m\u001b[0m\u001b[0m\n",
      "\u001b[1;32m~\\anaconda3\\lib\\site-packages\\pandas\\_libs\\tslibs\\conversion.pyx\u001b[0m in \u001b[0;36mpandas._libs.tslibs.conversion.datetime_to_datetime64\u001b[1;34m()\u001b[0m\n",
      "\u001b[1;31mTypeError\u001b[0m: Unrecognized value type: <class 'str'>",
      "\nDuring handling of the above exception, another exception occurred:\n",
      "\u001b[1;31mValueError\u001b[0m                                Traceback (most recent call last)",
      "\u001b[1;32m~\\AppData\\Local\\Temp/ipykernel_992/1855640170.py\u001b[0m in \u001b[0;36m<module>\u001b[1;34m\u001b[0m\n\u001b[1;32m----> 1\u001b[1;33m \u001b[0mdfContratosFinal\u001b[0m\u001b[1;33m.\u001b[0m\u001b[0mdata_fim_vigencia\u001b[0m \u001b[1;33m=\u001b[0m \u001b[0mpd\u001b[0m\u001b[1;33m.\u001b[0m\u001b[0mto_datetime\u001b[0m\u001b[1;33m(\u001b[0m\u001b[0mdfContratosFinal\u001b[0m\u001b[1;33m.\u001b[0m\u001b[0mdata_fim_vigencia\u001b[0m\u001b[1;33m,\u001b[0m \u001b[0mformat\u001b[0m\u001b[1;33m=\u001b[0m\u001b[1;34m'%d/%m/%Y'\u001b[0m\u001b[1;33m)\u001b[0m\u001b[1;33m.\u001b[0m\u001b[0mdt\u001b[0m\u001b[1;33m.\u001b[0m\u001b[0mdate\u001b[0m\u001b[1;33m\u001b[0m\u001b[1;33m\u001b[0m\u001b[0m\n\u001b[0m",
      "\u001b[1;32m~\\anaconda3\\lib\\site-packages\\pandas\\core\\tools\\datetimes.py\u001b[0m in \u001b[0;36mto_datetime\u001b[1;34m(arg, errors, dayfirst, yearfirst, utc, format, exact, unit, infer_datetime_format, origin, cache)\u001b[0m\n\u001b[0;32m    885\u001b[0m             \u001b[0mresult\u001b[0m \u001b[1;33m=\u001b[0m \u001b[0marg\u001b[0m\u001b[1;33m.\u001b[0m\u001b[0mmap\u001b[0m\u001b[1;33m(\u001b[0m\u001b[0mcache_array\u001b[0m\u001b[1;33m)\u001b[0m\u001b[1;33m\u001b[0m\u001b[1;33m\u001b[0m\u001b[0m\n\u001b[0;32m    886\u001b[0m         \u001b[1;32melse\u001b[0m\u001b[1;33m:\u001b[0m\u001b[1;33m\u001b[0m\u001b[1;33m\u001b[0m\u001b[0m\n\u001b[1;32m--> 887\u001b[1;33m             \u001b[0mvalues\u001b[0m \u001b[1;33m=\u001b[0m \u001b[0mconvert_listlike\u001b[0m\u001b[1;33m(\u001b[0m\u001b[0marg\u001b[0m\u001b[1;33m.\u001b[0m\u001b[0m_values\u001b[0m\u001b[1;33m,\u001b[0m \u001b[0mformat\u001b[0m\u001b[1;33m)\u001b[0m\u001b[1;33m\u001b[0m\u001b[1;33m\u001b[0m\u001b[0m\n\u001b[0m\u001b[0;32m    888\u001b[0m             \u001b[0mresult\u001b[0m \u001b[1;33m=\u001b[0m \u001b[0marg\u001b[0m\u001b[1;33m.\u001b[0m\u001b[0m_constructor\u001b[0m\u001b[1;33m(\u001b[0m\u001b[0mvalues\u001b[0m\u001b[1;33m,\u001b[0m \u001b[0mindex\u001b[0m\u001b[1;33m=\u001b[0m\u001b[0marg\u001b[0m\u001b[1;33m.\u001b[0m\u001b[0mindex\u001b[0m\u001b[1;33m,\u001b[0m \u001b[0mname\u001b[0m\u001b[1;33m=\u001b[0m\u001b[0marg\u001b[0m\u001b[1;33m.\u001b[0m\u001b[0mname\u001b[0m\u001b[1;33m)\u001b[0m\u001b[1;33m\u001b[0m\u001b[1;33m\u001b[0m\u001b[0m\n\u001b[0;32m    889\u001b[0m     \u001b[1;32melif\u001b[0m \u001b[0misinstance\u001b[0m\u001b[1;33m(\u001b[0m\u001b[0marg\u001b[0m\u001b[1;33m,\u001b[0m \u001b[1;33m(\u001b[0m\u001b[0mABCDataFrame\u001b[0m\u001b[1;33m,\u001b[0m \u001b[0mabc\u001b[0m\u001b[1;33m.\u001b[0m\u001b[0mMutableMapping\u001b[0m\u001b[1;33m)\u001b[0m\u001b[1;33m)\u001b[0m\u001b[1;33m:\u001b[0m\u001b[1;33m\u001b[0m\u001b[1;33m\u001b[0m\u001b[0m\n",
      "\u001b[1;32m~\\anaconda3\\lib\\site-packages\\pandas\\core\\tools\\datetimes.py\u001b[0m in \u001b[0;36m_convert_listlike_datetimes\u001b[1;34m(arg, format, name, tz, unit, errors, infer_datetime_format, dayfirst, yearfirst, exact)\u001b[0m\n\u001b[0;32m    391\u001b[0m \u001b[1;33m\u001b[0m\u001b[0m\n\u001b[0;32m    392\u001b[0m     \u001b[1;32mif\u001b[0m \u001b[0mformat\u001b[0m \u001b[1;32mis\u001b[0m \u001b[1;32mnot\u001b[0m \u001b[1;32mNone\u001b[0m\u001b[1;33m:\u001b[0m\u001b[1;33m\u001b[0m\u001b[1;33m\u001b[0m\u001b[0m\n\u001b[1;32m--> 393\u001b[1;33m         res = _to_datetime_with_format(\n\u001b[0m\u001b[0;32m    394\u001b[0m             \u001b[0marg\u001b[0m\u001b[1;33m,\u001b[0m \u001b[0morig_arg\u001b[0m\u001b[1;33m,\u001b[0m \u001b[0mname\u001b[0m\u001b[1;33m,\u001b[0m \u001b[0mtz\u001b[0m\u001b[1;33m,\u001b[0m \u001b[0mformat\u001b[0m\u001b[1;33m,\u001b[0m \u001b[0mexact\u001b[0m\u001b[1;33m,\u001b[0m \u001b[0merrors\u001b[0m\u001b[1;33m,\u001b[0m \u001b[0minfer_datetime_format\u001b[0m\u001b[1;33m\u001b[0m\u001b[1;33m\u001b[0m\u001b[0m\n\u001b[0;32m    395\u001b[0m         )\n",
      "\u001b[1;32m~\\anaconda3\\lib\\site-packages\\pandas\\core\\tools\\datetimes.py\u001b[0m in \u001b[0;36m_to_datetime_with_format\u001b[1;34m(arg, orig_arg, name, tz, fmt, exact, errors, infer_datetime_format)\u001b[0m\n\u001b[0;32m    511\u001b[0m             \u001b[1;32mreturn\u001b[0m \u001b[0mDatetimeIndex\u001b[0m\u001b[1;33m.\u001b[0m\u001b[0m_simple_new\u001b[0m\u001b[1;33m(\u001b[0m\u001b[0mdta\u001b[0m\u001b[1;33m,\u001b[0m \u001b[0mname\u001b[0m\u001b[1;33m=\u001b[0m\u001b[0mname\u001b[0m\u001b[1;33m)\u001b[0m\u001b[1;33m\u001b[0m\u001b[1;33m\u001b[0m\u001b[0m\n\u001b[0;32m    512\u001b[0m         \u001b[1;32mexcept\u001b[0m \u001b[1;33m(\u001b[0m\u001b[0mValueError\u001b[0m\u001b[1;33m,\u001b[0m \u001b[0mTypeError\u001b[0m\u001b[1;33m)\u001b[0m\u001b[1;33m:\u001b[0m\u001b[1;33m\u001b[0m\u001b[1;33m\u001b[0m\u001b[0m\n\u001b[1;32m--> 513\u001b[1;33m             \u001b[1;32mraise\u001b[0m \u001b[0merr\u001b[0m\u001b[1;33m\u001b[0m\u001b[1;33m\u001b[0m\u001b[0m\n\u001b[0m\u001b[0;32m    514\u001b[0m \u001b[1;33m\u001b[0m\u001b[0m\n\u001b[0;32m    515\u001b[0m \u001b[1;33m\u001b[0m\u001b[0m\n",
      "\u001b[1;32m~\\anaconda3\\lib\\site-packages\\pandas\\core\\tools\\datetimes.py\u001b[0m in \u001b[0;36m_to_datetime_with_format\u001b[1;34m(arg, orig_arg, name, tz, fmt, exact, errors, infer_datetime_format)\u001b[0m\n\u001b[0;32m    498\u001b[0m \u001b[1;33m\u001b[0m\u001b[0m\n\u001b[0;32m    499\u001b[0m         \u001b[1;31m# fallback\u001b[0m\u001b[1;33m\u001b[0m\u001b[1;33m\u001b[0m\u001b[0m\n\u001b[1;32m--> 500\u001b[1;33m         res = _array_strptime_with_fallback(\n\u001b[0m\u001b[0;32m    501\u001b[0m             \u001b[0marg\u001b[0m\u001b[1;33m,\u001b[0m \u001b[0mname\u001b[0m\u001b[1;33m,\u001b[0m \u001b[0mtz\u001b[0m\u001b[1;33m,\u001b[0m \u001b[0mfmt\u001b[0m\u001b[1;33m,\u001b[0m \u001b[0mexact\u001b[0m\u001b[1;33m,\u001b[0m \u001b[0merrors\u001b[0m\u001b[1;33m,\u001b[0m \u001b[0minfer_datetime_format\u001b[0m\u001b[1;33m\u001b[0m\u001b[1;33m\u001b[0m\u001b[0m\n\u001b[0;32m    502\u001b[0m         )\n",
      "\u001b[1;32m~\\anaconda3\\lib\\site-packages\\pandas\\core\\tools\\datetimes.py\u001b[0m in \u001b[0;36m_array_strptime_with_fallback\u001b[1;34m(arg, name, tz, fmt, exact, errors, infer_datetime_format)\u001b[0m\n\u001b[0;32m    434\u001b[0m \u001b[1;33m\u001b[0m\u001b[0m\n\u001b[0;32m    435\u001b[0m     \u001b[1;32mtry\u001b[0m\u001b[1;33m:\u001b[0m\u001b[1;33m\u001b[0m\u001b[1;33m\u001b[0m\u001b[0m\n\u001b[1;32m--> 436\u001b[1;33m         \u001b[0mresult\u001b[0m\u001b[1;33m,\u001b[0m \u001b[0mtimezones\u001b[0m \u001b[1;33m=\u001b[0m \u001b[0marray_strptime\u001b[0m\u001b[1;33m(\u001b[0m\u001b[0marg\u001b[0m\u001b[1;33m,\u001b[0m \u001b[0mfmt\u001b[0m\u001b[1;33m,\u001b[0m \u001b[0mexact\u001b[0m\u001b[1;33m=\u001b[0m\u001b[0mexact\u001b[0m\u001b[1;33m,\u001b[0m \u001b[0merrors\u001b[0m\u001b[1;33m=\u001b[0m\u001b[0merrors\u001b[0m\u001b[1;33m)\u001b[0m\u001b[1;33m\u001b[0m\u001b[1;33m\u001b[0m\u001b[0m\n\u001b[0m\u001b[0;32m    437\u001b[0m         \u001b[1;32mif\u001b[0m \u001b[1;34m\"%Z\"\u001b[0m \u001b[1;32min\u001b[0m \u001b[0mfmt\u001b[0m \u001b[1;32mor\u001b[0m \u001b[1;34m\"%z\"\u001b[0m \u001b[1;32min\u001b[0m \u001b[0mfmt\u001b[0m\u001b[1;33m:\u001b[0m\u001b[1;33m\u001b[0m\u001b[1;33m\u001b[0m\u001b[0m\n\u001b[0;32m    438\u001b[0m             \u001b[1;32mreturn\u001b[0m \u001b[0m_return_parsed_timezone_results\u001b[0m\u001b[1;33m(\u001b[0m\u001b[0mresult\u001b[0m\u001b[1;33m,\u001b[0m \u001b[0mtimezones\u001b[0m\u001b[1;33m,\u001b[0m \u001b[0mtz\u001b[0m\u001b[1;33m,\u001b[0m \u001b[0mname\u001b[0m\u001b[1;33m)\u001b[0m\u001b[1;33m\u001b[0m\u001b[1;33m\u001b[0m\u001b[0m\n",
      "\u001b[1;32m~\\anaconda3\\lib\\site-packages\\pandas\\_libs\\tslibs\\strptime.pyx\u001b[0m in \u001b[0;36mpandas._libs.tslibs.strptime.array_strptime\u001b[1;34m()\u001b[0m\n",
      "\u001b[1;32m~\\anaconda3\\lib\\site-packages\\pandas\\_libs\\tslibs\\strptime.pyx\u001b[0m in \u001b[0;36mpandas._libs.tslibs.strptime.array_strptime\u001b[1;34m()\u001b[0m\n",
      "\u001b[1;31mValueError\u001b[0m: day is out of range for month"
     ]
    }
   ],
   "source": [
    "dfContratosFinal.data_fim_vigencia = pd.to_datetime(dfContratosFinal.data_fim_vigencia, format='%d/%m/%Y').dt.date"
   ]
  },
  {
   "cell_type": "code",
   "execution_count": 98,
   "id": "1184f121",
   "metadata": {},
   "outputs": [
    {
     "name": "stdout",
     "output_type": "stream",
     "text": [
      "19/12/2015\n",
      "2015-12-19 00:00:00\n",
      "31/12/2015\n",
      "2015-12-31 00:00:00\n",
      "31/12/2015\n",
      "2015-12-31 00:00:00\n",
      "31/12/2015\n",
      "2015-12-31 00:00:00\n",
      "26/01/2016\n",
      "2016-01-26 00:00:00\n",
      "27/01/2016\n",
      "2016-01-27 00:00:00\n",
      "13/02/2016\n",
      "2016-02-13 00:00:00\n",
      "24/02/2016\n",
      "2016-02-24 00:00:00\n",
      "04/03/2016\n",
      "2016-04-03 00:00:00\n",
      "17/03/2016\n",
      "2016-03-17 00:00:00\n",
      "22/03/2016\n",
      "2016-03-22 00:00:00\n",
      "03/04/2016\n",
      "2016-03-04 00:00:00\n",
      "04/04/2016\n",
      "2016-04-04 00:00:00\n",
      "09/04/2016\n",
      "2016-09-04 00:00:00\n",
      "23/04/2016\n",
      "2016-04-23 00:00:00\n",
      "19/05/2016\n",
      "2016-05-19 00:00:00\n",
      "14/07/2016\n",
      "2016-07-14 00:00:00\n",
      "03/08/2016\n",
      "2016-03-08 00:00:00\n",
      "31/08/2016\n",
      "2016-08-31 00:00:00\n",
      "31/08/2016\n",
      "2016-08-31 00:00:00\n",
      "26/09/2016\n",
      "2016-09-26 00:00:00\n",
      "04/10/2016\n",
      "2016-04-10 00:00:00\n",
      "26/10/2016\n",
      "2016-10-26 00:00:00\n",
      "06/11/2016\n",
      "2016-06-11 00:00:00\n",
      "05/12/2016\n",
      "2016-05-12 00:00:00\n",
      "07/12/2016\n",
      "2016-07-12 00:00:00\n",
      "06/01/2017\n",
      "2017-06-01 00:00:00\n",
      "11/05/2017\n",
      "2017-11-05 00:00:00\n",
      "25/05/2017\n",
      "2017-05-25 00:00:00\n",
      "27/11/2017\n",
      "2017-11-27 00:00:00\n",
      "27/12/2017\n",
      "2017-12-27 00:00:00\n",
      "03/12/2016\n",
      "2016-03-12 00:00:00\n",
      "05/12/2016\n",
      "2016-05-12 00:00:00\n",
      "07/12/2016\n",
      "2016-07-12 00:00:00\n",
      "31/12/2016\n",
      "2016-12-31 00:00:00\n",
      "31/12/2016\n",
      "2016-12-31 00:00:00\n",
      "06/01/2017\n",
      "2017-06-01 00:00:00\n",
      "27/01/2017\n",
      "2017-01-27 00:00:00\n",
      "28/01/2017\n",
      "2017-01-28 00:00:00\n",
      "14/02/2017\n",
      "2017-02-14 00:00:00\n",
      "25/02/2017\n",
      "2017-02-25 00:00:00\n",
      "25/02/2017\n",
      "2017-02-25 00:00:00\n",
      "18/03/2017\n",
      "2017-03-18 00:00:00\n",
      "05/03/2017\n",
      "2017-05-03 00:00:00\n",
      "23/03/2017\n",
      "2017-03-23 00:00:00\n",
      "04/04/2017\n",
      "2017-04-04 00:00:00\n",
      "05/04/2017\n",
      "2017-05-04 00:00:00\n",
      "10/04/2017\n",
      "2017-10-04 00:00:00\n",
      "24/04/2017\n",
      "2017-04-24 00:00:00\n",
      "01/05/2017\n",
      "2017-01-05 00:00:00\n",
      "11/05/2017\n",
      "2017-11-05 00:00:00\n",
      "25/05/2017\n",
      "2017-05-25 00:00:00\n",
      "31/05/2017\n",
      "2017-05-31 00:00:00\n",
      "15/07/2016\n",
      "2016-07-15 00:00:00\n",
      "03/08/2017\n",
      "2017-03-08 00:00:00\n",
      "31/08/2017\n",
      "2017-08-31 00:00:00\n",
      "31/09/2017\n"
     ]
    },
    {
     "ename": "ValueError",
     "evalue": "day is out of range for month",
     "output_type": "error",
     "traceback": [
      "\u001b[1;31m---------------------------------------------------------------------------\u001b[0m",
      "\u001b[1;31mTypeError\u001b[0m                                 Traceback (most recent call last)",
      "\u001b[1;32m~\\anaconda3\\lib\\site-packages\\pandas\\core\\arrays\\datetimes.py\u001b[0m in \u001b[0;36mobjects_to_datetime64ns\u001b[1;34m(data, dayfirst, yearfirst, utc, errors, require_iso8601, allow_object, allow_mixed)\u001b[0m\n\u001b[0;32m   2186\u001b[0m         \u001b[1;32mtry\u001b[0m\u001b[1;33m:\u001b[0m\u001b[1;33m\u001b[0m\u001b[1;33m\u001b[0m\u001b[0m\n\u001b[1;32m-> 2187\u001b[1;33m             \u001b[0mvalues\u001b[0m\u001b[1;33m,\u001b[0m \u001b[0mtz_parsed\u001b[0m \u001b[1;33m=\u001b[0m \u001b[0mconversion\u001b[0m\u001b[1;33m.\u001b[0m\u001b[0mdatetime_to_datetime64\u001b[0m\u001b[1;33m(\u001b[0m\u001b[0mdata\u001b[0m\u001b[1;33m.\u001b[0m\u001b[0mravel\u001b[0m\u001b[1;33m(\u001b[0m\u001b[1;34m\"K\"\u001b[0m\u001b[1;33m)\u001b[0m\u001b[1;33m)\u001b[0m\u001b[1;33m\u001b[0m\u001b[1;33m\u001b[0m\u001b[0m\n\u001b[0m\u001b[0;32m   2188\u001b[0m             \u001b[1;31m# If tzaware, these values represent unix timestamps, so we\u001b[0m\u001b[1;33m\u001b[0m\u001b[1;33m\u001b[0m\u001b[0m\n",
      "\u001b[1;32m~\\anaconda3\\lib\\site-packages\\pandas\\_libs\\tslibs\\conversion.pyx\u001b[0m in \u001b[0;36mpandas._libs.tslibs.conversion.datetime_to_datetime64\u001b[1;34m()\u001b[0m\n",
      "\u001b[1;31mTypeError\u001b[0m: Unrecognized value type: <class 'str'>",
      "\nDuring handling of the above exception, another exception occurred:\n",
      "\u001b[1;31mValueError\u001b[0m                                Traceback (most recent call last)",
      "\u001b[1;32m~\\AppData\\Local\\Temp/ipykernel_992/2833738294.py\u001b[0m in \u001b[0;36m<module>\u001b[1;34m\u001b[0m\n\u001b[0;32m      1\u001b[0m \u001b[1;32mfor\u001b[0m \u001b[0mi\u001b[0m \u001b[1;32min\u001b[0m \u001b[0mdfContratosFinal\u001b[0m\u001b[1;33m.\u001b[0m\u001b[0mdata_fim_vigencia\u001b[0m\u001b[1;33m:\u001b[0m\u001b[1;33m\u001b[0m\u001b[1;33m\u001b[0m\u001b[0m\n\u001b[0;32m      2\u001b[0m     \u001b[0mprint\u001b[0m\u001b[1;33m(\u001b[0m\u001b[0mi\u001b[0m\u001b[1;33m)\u001b[0m\u001b[1;33m\u001b[0m\u001b[1;33m\u001b[0m\u001b[0m\n\u001b[1;32m----> 3\u001b[1;33m     \u001b[0mprint\u001b[0m\u001b[1;33m(\u001b[0m\u001b[0mpd\u001b[0m\u001b[1;33m.\u001b[0m\u001b[0mto_datetime\u001b[0m\u001b[1;33m(\u001b[0m\u001b[0mi\u001b[0m\u001b[1;33m)\u001b[0m\u001b[1;33m)\u001b[0m\u001b[1;33m\u001b[0m\u001b[1;33m\u001b[0m\u001b[0m\n\u001b[0m",
      "\u001b[1;32m~\\anaconda3\\lib\\site-packages\\pandas\\core\\tools\\datetimes.py\u001b[0m in \u001b[0;36mto_datetime\u001b[1;34m(arg, errors, dayfirst, yearfirst, utc, format, exact, unit, infer_datetime_format, origin, cache)\u001b[0m\n\u001b[0;32m    912\u001b[0m             \u001b[0mresult\u001b[0m \u001b[1;33m=\u001b[0m \u001b[0mconvert_listlike\u001b[0m\u001b[1;33m(\u001b[0m\u001b[0marg\u001b[0m\u001b[1;33m,\u001b[0m \u001b[0mformat\u001b[0m\u001b[1;33m)\u001b[0m\u001b[1;33m\u001b[0m\u001b[1;33m\u001b[0m\u001b[0m\n\u001b[0;32m    913\u001b[0m     \u001b[1;32melse\u001b[0m\u001b[1;33m:\u001b[0m\u001b[1;33m\u001b[0m\u001b[1;33m\u001b[0m\u001b[0m\n\u001b[1;32m--> 914\u001b[1;33m         \u001b[0mresult\u001b[0m \u001b[1;33m=\u001b[0m \u001b[0mconvert_listlike\u001b[0m\u001b[1;33m(\u001b[0m\u001b[0mnp\u001b[0m\u001b[1;33m.\u001b[0m\u001b[0marray\u001b[0m\u001b[1;33m(\u001b[0m\u001b[1;33m[\u001b[0m\u001b[0marg\u001b[0m\u001b[1;33m]\u001b[0m\u001b[1;33m)\u001b[0m\u001b[1;33m,\u001b[0m \u001b[0mformat\u001b[0m\u001b[1;33m)\u001b[0m\u001b[1;33m[\u001b[0m\u001b[1;36m0\u001b[0m\u001b[1;33m]\u001b[0m\u001b[1;33m\u001b[0m\u001b[1;33m\u001b[0m\u001b[0m\n\u001b[0m\u001b[0;32m    915\u001b[0m \u001b[1;33m\u001b[0m\u001b[0m\n\u001b[0;32m    916\u001b[0m     \u001b[1;31m#  error: Incompatible return value type (got \"Union[Timestamp, NaTType,\u001b[0m\u001b[1;33m\u001b[0m\u001b[1;33m\u001b[0m\u001b[0m\n",
      "\u001b[1;32m~\\anaconda3\\lib\\site-packages\\pandas\\core\\tools\\datetimes.py\u001b[0m in \u001b[0;36m_convert_listlike_datetimes\u001b[1;34m(arg, format, name, tz, unit, errors, infer_datetime_format, dayfirst, yearfirst, exact)\u001b[0m\n\u001b[0;32m    399\u001b[0m     \u001b[1;32massert\u001b[0m \u001b[0mformat\u001b[0m \u001b[1;32mis\u001b[0m \u001b[1;32mNone\u001b[0m \u001b[1;32mor\u001b[0m \u001b[0minfer_datetime_format\u001b[0m\u001b[1;33m\u001b[0m\u001b[1;33m\u001b[0m\u001b[0m\n\u001b[0;32m    400\u001b[0m     \u001b[0mutc\u001b[0m \u001b[1;33m=\u001b[0m \u001b[0mtz\u001b[0m \u001b[1;33m==\u001b[0m \u001b[1;34m\"utc\"\u001b[0m\u001b[1;33m\u001b[0m\u001b[1;33m\u001b[0m\u001b[0m\n\u001b[1;32m--> 401\u001b[1;33m     result, tz_parsed = objects_to_datetime64ns(\n\u001b[0m\u001b[0;32m    402\u001b[0m         \u001b[0marg\u001b[0m\u001b[1;33m,\u001b[0m\u001b[1;33m\u001b[0m\u001b[1;33m\u001b[0m\u001b[0m\n\u001b[0;32m    403\u001b[0m         \u001b[0mdayfirst\u001b[0m\u001b[1;33m=\u001b[0m\u001b[0mdayfirst\u001b[0m\u001b[1;33m,\u001b[0m\u001b[1;33m\u001b[0m\u001b[1;33m\u001b[0m\u001b[0m\n",
      "\u001b[1;32m~\\anaconda3\\lib\\site-packages\\pandas\\core\\arrays\\datetimes.py\u001b[0m in \u001b[0;36mobjects_to_datetime64ns\u001b[1;34m(data, dayfirst, yearfirst, utc, errors, require_iso8601, allow_object, allow_mixed)\u001b[0m\n\u001b[0;32m   2191\u001b[0m             \u001b[1;32mreturn\u001b[0m \u001b[0mvalues\u001b[0m\u001b[1;33m.\u001b[0m\u001b[0mview\u001b[0m\u001b[1;33m(\u001b[0m\u001b[1;34m\"i8\"\u001b[0m\u001b[1;33m)\u001b[0m\u001b[1;33m,\u001b[0m \u001b[0mtz_parsed\u001b[0m\u001b[1;33m\u001b[0m\u001b[1;33m\u001b[0m\u001b[0m\n\u001b[0;32m   2192\u001b[0m         \u001b[1;32mexcept\u001b[0m \u001b[1;33m(\u001b[0m\u001b[0mValueError\u001b[0m\u001b[1;33m,\u001b[0m \u001b[0mTypeError\u001b[0m\u001b[1;33m)\u001b[0m\u001b[1;33m:\u001b[0m\u001b[1;33m\u001b[0m\u001b[1;33m\u001b[0m\u001b[0m\n\u001b[1;32m-> 2193\u001b[1;33m             \u001b[1;32mraise\u001b[0m \u001b[0merr\u001b[0m\u001b[1;33m\u001b[0m\u001b[1;33m\u001b[0m\u001b[0m\n\u001b[0m\u001b[0;32m   2194\u001b[0m \u001b[1;33m\u001b[0m\u001b[0m\n\u001b[0;32m   2195\u001b[0m     \u001b[1;32mif\u001b[0m \u001b[0mtz_parsed\u001b[0m \u001b[1;32mis\u001b[0m \u001b[1;32mnot\u001b[0m \u001b[1;32mNone\u001b[0m\u001b[1;33m:\u001b[0m\u001b[1;33m\u001b[0m\u001b[1;33m\u001b[0m\u001b[0m\n",
      "\u001b[1;32m~\\anaconda3\\lib\\site-packages\\pandas\\core\\arrays\\datetimes.py\u001b[0m in \u001b[0;36mobjects_to_datetime64ns\u001b[1;34m(data, dayfirst, yearfirst, utc, errors, require_iso8601, allow_object, allow_mixed)\u001b[0m\n\u001b[0;32m   2173\u001b[0m     \u001b[0morder\u001b[0m\u001b[1;33m:\u001b[0m \u001b[0mLiteral\u001b[0m\u001b[1;33m[\u001b[0m\u001b[1;34m\"F\"\u001b[0m\u001b[1;33m,\u001b[0m \u001b[1;34m\"C\"\u001b[0m\u001b[1;33m]\u001b[0m \u001b[1;33m=\u001b[0m \u001b[1;34m\"F\"\u001b[0m \u001b[1;32mif\u001b[0m \u001b[0mflags\u001b[0m\u001b[1;33m.\u001b[0m\u001b[0mf_contiguous\u001b[0m \u001b[1;32melse\u001b[0m \u001b[1;34m\"C\"\u001b[0m\u001b[1;33m\u001b[0m\u001b[1;33m\u001b[0m\u001b[0m\n\u001b[0;32m   2174\u001b[0m     \u001b[1;32mtry\u001b[0m\u001b[1;33m:\u001b[0m\u001b[1;33m\u001b[0m\u001b[1;33m\u001b[0m\u001b[0m\n\u001b[1;32m-> 2175\u001b[1;33m         result, tz_parsed = tslib.array_to_datetime(\n\u001b[0m\u001b[0;32m   2176\u001b[0m             \u001b[0mdata\u001b[0m\u001b[1;33m.\u001b[0m\u001b[0mravel\u001b[0m\u001b[1;33m(\u001b[0m\u001b[1;34m\"K\"\u001b[0m\u001b[1;33m)\u001b[0m\u001b[1;33m,\u001b[0m\u001b[1;33m\u001b[0m\u001b[1;33m\u001b[0m\u001b[0m\n\u001b[0;32m   2177\u001b[0m             \u001b[0merrors\u001b[0m\u001b[1;33m=\u001b[0m\u001b[0merrors\u001b[0m\u001b[1;33m,\u001b[0m\u001b[1;33m\u001b[0m\u001b[1;33m\u001b[0m\u001b[0m\n",
      "\u001b[1;32m~\\anaconda3\\lib\\site-packages\\pandas\\_libs\\tslib.pyx\u001b[0m in \u001b[0;36mpandas._libs.tslib.array_to_datetime\u001b[1;34m()\u001b[0m\n",
      "\u001b[1;32m~\\anaconda3\\lib\\site-packages\\pandas\\_libs\\tslib.pyx\u001b[0m in \u001b[0;36mpandas._libs.tslib.array_to_datetime\u001b[1;34m()\u001b[0m\n",
      "\u001b[1;32m~\\anaconda3\\lib\\site-packages\\pandas\\_libs\\tslib.pyx\u001b[0m in \u001b[0;36mpandas._libs.tslib._array_to_datetime_object\u001b[1;34m()\u001b[0m\n",
      "\u001b[1;32m~\\anaconda3\\lib\\site-packages\\pandas\\_libs\\tslib.pyx\u001b[0m in \u001b[0;36mpandas._libs.tslib._array_to_datetime_object\u001b[1;34m()\u001b[0m\n",
      "\u001b[1;32m~\\anaconda3\\lib\\site-packages\\pandas\\_libs\\tslibs\\parsing.pyx\u001b[0m in \u001b[0;36mpandas._libs.tslibs.parsing.parse_datetime_string\u001b[1;34m()\u001b[0m\n",
      "\u001b[1;32m~\\anaconda3\\lib\\site-packages\\pandas\\_libs\\tslibs\\parsing.pyx\u001b[0m in \u001b[0;36mpandas._libs.tslibs.parsing._parse_delimited_date\u001b[1;34m()\u001b[0m\n",
      "\u001b[1;32mdatetime.pxd\u001b[0m in \u001b[0;36mcpython.datetime.datetime_new\u001b[1;34m()\u001b[0m\n",
      "\u001b[1;31mValueError\u001b[0m: day is out of range for month"
     ]
    }
   ],
   "source": [
    "for i in dfContratosFinal.data_fim_vigencia:\n",
    "    print(i)\n",
    "    print(pd.to_datetime(i))"
   ]
  },
  {
   "cell_type": "code",
   "execution_count": 132,
   "id": "b2adf63d",
   "metadata": {},
   "outputs": [],
   "source": [
    "dfContratosFinal.data_fim_vigencia = dfContratosFinal.data_fim_vigencia.str.replace('31/09/2017','30/09/2017')"
   ]
  },
  {
   "cell_type": "code",
   "execution_count": 133,
   "id": "f07e71a9",
   "metadata": {},
   "outputs": [],
   "source": [
    "dfContratosFinal.data_fim_vigencia = pd.to_datetime(dfContratosFinal.data_fim_vigencia, format='%d/%m/%Y').dt.date"
   ]
  },
  {
   "cell_type": "code",
   "execution_count": 134,
   "id": "ac6e8236",
   "metadata": {},
   "outputs": [
    {
     "data": {
      "text/plain": [
       "id_contrato               int64\n",
       "nome_contrato            object\n",
       "objeto_contrato          object\n",
       "valor_contrato          float64\n",
       "nome_empresa             object\n",
       "data_inicio_vigencia     object\n",
       "data_fim_vigencia        object\n",
       "dtype: object"
      ]
     },
     "execution_count": 134,
     "metadata": {},
     "output_type": "execute_result"
    }
   ],
   "source": [
    "dfContratosFinal.dtypes"
   ]
  },
  {
   "cell_type": "code",
   "execution_count": 135,
   "id": "37d9ffcc",
   "metadata": {},
   "outputs": [
    {
     "data": {
      "text/html": [
       "<div>\n",
       "<style scoped>\n",
       "    .dataframe tbody tr th:only-of-type {\n",
       "        vertical-align: middle;\n",
       "    }\n",
       "\n",
       "    .dataframe tbody tr th {\n",
       "        vertical-align: top;\n",
       "    }\n",
       "\n",
       "    .dataframe thead th {\n",
       "        text-align: right;\n",
       "    }\n",
       "</style>\n",
       "<table border=\"1\" class=\"dataframe\">\n",
       "  <thead>\n",
       "    <tr style=\"text-align: right;\">\n",
       "      <th></th>\n",
       "      <th>id_contrato</th>\n",
       "      <th>nome_contrato</th>\n",
       "      <th>objeto_contrato</th>\n",
       "      <th>valor_contrato</th>\n",
       "      <th>nome_empresa</th>\n",
       "      <th>data_inicio_vigencia</th>\n",
       "      <th>data_fim_vigencia</th>\n",
       "    </tr>\n",
       "  </thead>\n",
       "  <tbody>\n",
       "    <tr>\n",
       "      <th>0</th>\n",
       "      <td>1</td>\n",
       "      <td>13/2012</td>\n",
       "      <td>Contratação de Empresa para Ministrar Curso de...</td>\n",
       "      <td>94947.23</td>\n",
       "      <td>Thomas Jefferson</td>\n",
       "      <td>2014-12-20</td>\n",
       "      <td>2015-12-19</td>\n",
       "    </tr>\n",
       "    <tr>\n",
       "      <th>1</th>\n",
       "      <td>2</td>\n",
       "      <td>Disp. Lic. 1</td>\n",
       "      <td>Prestação de serviço na confecção de Chaves</td>\n",
       "      <td>5234.00</td>\n",
       "      <td>Chaveiro City</td>\n",
       "      <td>2015-02-26</td>\n",
       "      <td>2015-12-31</td>\n",
       "    </tr>\n",
       "    <tr>\n",
       "      <th>2</th>\n",
       "      <td>3</td>\n",
       "      <td>Disp. Lic. 2</td>\n",
       "      <td>Prestação de serviço na confecção de Carimbos</td>\n",
       "      <td>1800.00</td>\n",
       "      <td>HBL Carimbos</td>\n",
       "      <td>2015-02-10</td>\n",
       "      <td>2015-12-31</td>\n",
       "    </tr>\n",
       "    <tr>\n",
       "      <th>3</th>\n",
       "      <td>4</td>\n",
       "      <td>32/2014</td>\n",
       "      <td>Serviço de Telefônia Móvel</td>\n",
       "      <td>73915.08</td>\n",
       "      <td>Claro S/A</td>\n",
       "      <td>2015-01-01</td>\n",
       "      <td>2015-12-31</td>\n",
       "    </tr>\n",
       "    <tr>\n",
       "      <th>4</th>\n",
       "      <td>5</td>\n",
       "      <td>001/2014</td>\n",
       "      <td>Publicações no Diário Oficial da União</td>\n",
       "      <td>45000.00</td>\n",
       "      <td>Imprensa Nacional</td>\n",
       "      <td>2015-01-27</td>\n",
       "      <td>2016-01-26</td>\n",
       "    </tr>\n",
       "  </tbody>\n",
       "</table>\n",
       "</div>"
      ],
      "text/plain": [
       "   id_contrato nome_contrato  \\\n",
       "0            1       13/2012   \n",
       "1            2  Disp. Lic. 1   \n",
       "2            3  Disp. Lic. 2   \n",
       "3            4       32/2014   \n",
       "4            5      001/2014   \n",
       "\n",
       "                                     objeto_contrato  valor_contrato  \\\n",
       "0  Contratação de Empresa para Ministrar Curso de...        94947.23   \n",
       "1        Prestação de serviço na confecção de Chaves         5234.00   \n",
       "2      Prestação de serviço na confecção de Carimbos         1800.00   \n",
       "3                         Serviço de Telefônia Móvel        73915.08   \n",
       "4             Publicações no Diário Oficial da União        45000.00   \n",
       "\n",
       "        nome_empresa data_inicio_vigencia data_fim_vigencia  \n",
       "0   Thomas Jefferson           2014-12-20        2015-12-19  \n",
       "1      Chaveiro City           2015-02-26        2015-12-31  \n",
       "2       HBL Carimbos           2015-02-10        2015-12-31  \n",
       "3          Claro S/A           2015-01-01        2015-12-31  \n",
       "4  Imprensa Nacional           2015-01-27        2016-01-26  "
      ]
     },
     "execution_count": 135,
     "metadata": {},
     "output_type": "execute_result"
    }
   ],
   "source": [
    "dfContratosFinal.head(5)"
   ]
  },
  {
   "cell_type": "code",
   "execution_count": 136,
   "id": "1caa6033",
   "metadata": {},
   "outputs": [],
   "source": [
    "dfContratosFinal['tempo_contrato'] = (dfContratosFinal.data_fim_vigencia - \\\n",
    "                                      dfContratosFinal.data_inicio_vigencia).dt.days"
   ]
  },
  {
   "cell_type": "code",
   "execution_count": 137,
   "id": "4ffd723e",
   "metadata": {},
   "outputs": [
    {
     "data": {
      "text/plain": [
       "004/16           5\n",
       "42064            5\n",
       "006/2015         5\n",
       "005/2015         5\n",
       "005/2016         4\n",
       "                ..\n",
       "Disp. Lic. 24    1\n",
       "Disp. Lic. 23    1\n",
       "Disp. Lic. 22    1\n",
       "Disp. Lic. 21    1\n",
       "20/2020          1\n",
       "Name: nome_contrato, Length: 122, dtype: int64"
      ]
     },
     "execution_count": 137,
     "metadata": {},
     "output_type": "execute_result"
    }
   ],
   "source": [
    "dfContratosFinal.nome_contrato.value_counts()"
   ]
  },
  {
   "cell_type": "code",
   "execution_count": 138,
   "id": "79ad0bda",
   "metadata": {},
   "outputs": [
    {
     "data": {
      "text/html": [
       "<div>\n",
       "<style scoped>\n",
       "    .dataframe tbody tr th:only-of-type {\n",
       "        vertical-align: middle;\n",
       "    }\n",
       "\n",
       "    .dataframe tbody tr th {\n",
       "        vertical-align: top;\n",
       "    }\n",
       "\n",
       "    .dataframe thead th {\n",
       "        text-align: right;\n",
       "    }\n",
       "</style>\n",
       "<table border=\"1\" class=\"dataframe\">\n",
       "  <thead>\n",
       "    <tr style=\"text-align: right;\">\n",
       "      <th></th>\n",
       "      <th>id_contrato</th>\n",
       "      <th>nome_contrato</th>\n",
       "      <th>objeto_contrato</th>\n",
       "      <th>valor_contrato</th>\n",
       "      <th>nome_empresa</th>\n",
       "      <th>data_inicio_vigencia</th>\n",
       "      <th>data_fim_vigencia</th>\n",
       "      <th>tempo_contrato</th>\n",
       "    </tr>\n",
       "  </thead>\n",
       "  <tbody>\n",
       "    <tr>\n",
       "      <th>49</th>\n",
       "      <td>50</td>\n",
       "      <td>004/16</td>\n",
       "      <td>Serviços de Telefonia Móvel (Celulares)</td>\n",
       "      <td>67461.0</td>\n",
       "      <td>Claro S/A</td>\n",
       "      <td>2016-05-01</td>\n",
       "      <td>2017-05-01</td>\n",
       "      <td>365</td>\n",
       "    </tr>\n",
       "    <tr>\n",
       "      <th>71</th>\n",
       "      <td>72</td>\n",
       "      <td>004/16</td>\n",
       "      <td>Serviços de Telefonia Móvel (Celulares)</td>\n",
       "      <td>67461.0</td>\n",
       "      <td>Claro S/A</td>\n",
       "      <td>2017-05-01</td>\n",
       "      <td>2018-05-01</td>\n",
       "      <td>365</td>\n",
       "    </tr>\n",
       "    <tr>\n",
       "      <th>99</th>\n",
       "      <td>100</td>\n",
       "      <td>004/16</td>\n",
       "      <td>Serviços de Telefonia Móvel (Celulares)</td>\n",
       "      <td>67461.0</td>\n",
       "      <td>Claro S/A</td>\n",
       "      <td>2019-05-01</td>\n",
       "      <td>2019-05-01</td>\n",
       "      <td>0</td>\n",
       "    </tr>\n",
       "    <tr>\n",
       "      <th>123</th>\n",
       "      <td>124</td>\n",
       "      <td>004/16</td>\n",
       "      <td>Serviços de Telefonia Móvel (Celulares)</td>\n",
       "      <td>67461.0</td>\n",
       "      <td>Claro S/A</td>\n",
       "      <td>2019-05-01</td>\n",
       "      <td>2020-05-01</td>\n",
       "      <td>366</td>\n",
       "    </tr>\n",
       "    <tr>\n",
       "      <th>167</th>\n",
       "      <td>168</td>\n",
       "      <td>004/16</td>\n",
       "      <td>Serviços de Telefonia Móvel (Celulares)</td>\n",
       "      <td>62780.6</td>\n",
       "      <td>Claro S/A</td>\n",
       "      <td>2020-05-01</td>\n",
       "      <td>2021-05-01</td>\n",
       "      <td>365</td>\n",
       "    </tr>\n",
       "  </tbody>\n",
       "</table>\n",
       "</div>"
      ],
      "text/plain": [
       "     id_contrato nome_contrato                          objeto_contrato  \\\n",
       "49            50        004/16  Serviços de Telefonia Móvel (Celulares)   \n",
       "71            72        004/16  Serviços de Telefonia Móvel (Celulares)   \n",
       "99           100        004/16  Serviços de Telefonia Móvel (Celulares)   \n",
       "123          124        004/16  Serviços de Telefonia Móvel (Celulares)   \n",
       "167          168        004/16  Serviços de Telefonia Móvel (Celulares)   \n",
       "\n",
       "     valor_contrato nome_empresa data_inicio_vigencia data_fim_vigencia  \\\n",
       "49          67461.0    Claro S/A           2016-05-01        2017-05-01   \n",
       "71          67461.0    Claro S/A           2017-05-01        2018-05-01   \n",
       "99          67461.0    Claro S/A           2019-05-01        2019-05-01   \n",
       "123         67461.0    Claro S/A           2019-05-01        2020-05-01   \n",
       "167         62780.6    Claro S/A           2020-05-01        2021-05-01   \n",
       "\n",
       "     tempo_contrato  \n",
       "49              365  \n",
       "71              365  \n",
       "99                0  \n",
       "123             366  \n",
       "167             365  "
      ]
     },
     "execution_count": 138,
     "metadata": {},
     "output_type": "execute_result"
    }
   ],
   "source": [
    "dfContratosFinal[dfContratosFinal.nome_contrato == '004/16']"
   ]
  },
  {
   "cell_type": "code",
   "execution_count": 139,
   "id": "703c37ac",
   "metadata": {},
   "outputs": [
    {
     "data": {
      "text/plain": [
       " 365     88\n",
       " 366     45\n",
       " 364     10\n",
       " 1096     8\n",
       " 730      2\n",
       " 352      2\n",
       " 731      2\n",
       " 0        2\n",
       " 749      2\n",
       " 359      2\n",
       " 750      2\n",
       " 722      2\n",
       " 1095     2\n",
       " 729      2\n",
       " 350      1\n",
       " 531      1\n",
       " 179      1\n",
       " 182      1\n",
       "-2        1\n",
       " 340      1\n",
       " 353      1\n",
       " 363      1\n",
       " 324      1\n",
       " 339      1\n",
       " 308      1\n",
       " 394      1\n",
       " 295      1\n",
       "Name: tempo_contrato, dtype: int64"
      ]
     },
     "execution_count": 139,
     "metadata": {},
     "output_type": "execute_result"
    }
   ],
   "source": [
    "dfContratosFinal.tempo_contrato.value_counts()"
   ]
  },
  {
   "cell_type": "code",
   "execution_count": 140,
   "id": "66c1390b",
   "metadata": {},
   "outputs": [],
   "source": [
    "dfContratosFinal = dfContratosFinal[dfContratosFinal.tempo_contrato >= 1]"
   ]
  },
  {
   "cell_type": "code",
   "execution_count": 151,
   "id": "d2f484bd",
   "metadata": {},
   "outputs": [
    {
     "data": {
      "text/html": [
       "<div>\n",
       "<style scoped>\n",
       "    .dataframe tbody tr th:only-of-type {\n",
       "        vertical-align: middle;\n",
       "    }\n",
       "\n",
       "    .dataframe tbody tr th {\n",
       "        vertical-align: top;\n",
       "    }\n",
       "\n",
       "    .dataframe thead th {\n",
       "        text-align: right;\n",
       "    }\n",
       "</style>\n",
       "<table border=\"1\" class=\"dataframe\">\n",
       "  <thead>\n",
       "    <tr style=\"text-align: right;\">\n",
       "      <th></th>\n",
       "      <th>id_contrato</th>\n",
       "      <th>nome_contrato</th>\n",
       "      <th>objeto_contrato</th>\n",
       "      <th>valor_contrato</th>\n",
       "      <th>nome_empresa</th>\n",
       "      <th>data_inicio_vigencia</th>\n",
       "      <th>data_fim_vigencia</th>\n",
       "      <th>tempo_contrato</th>\n",
       "    </tr>\n",
       "  </thead>\n",
       "  <tbody>\n",
       "    <tr>\n",
       "      <th>0</th>\n",
       "      <td>1</td>\n",
       "      <td>13/2012</td>\n",
       "      <td>Contratação de Empresa para Ministrar Curso de...</td>\n",
       "      <td>94947.23</td>\n",
       "      <td>Thomas Jefferson</td>\n",
       "      <td>2014-12-20</td>\n",
       "      <td>2015-12-19</td>\n",
       "      <td>364</td>\n",
       "    </tr>\n",
       "    <tr>\n",
       "      <th>1</th>\n",
       "      <td>2</td>\n",
       "      <td>Disp. Lic. 1</td>\n",
       "      <td>Prestação de serviço na confecção de Chaves</td>\n",
       "      <td>5234.00</td>\n",
       "      <td>Chaveiro City</td>\n",
       "      <td>2015-02-26</td>\n",
       "      <td>2015-12-31</td>\n",
       "      <td>308</td>\n",
       "    </tr>\n",
       "  </tbody>\n",
       "</table>\n",
       "</div>"
      ],
      "text/plain": [
       "   id_contrato nome_contrato  \\\n",
       "0            1       13/2012   \n",
       "1            2  Disp. Lic. 1   \n",
       "\n",
       "                                     objeto_contrato  valor_contrato  \\\n",
       "0  Contratação de Empresa para Ministrar Curso de...        94947.23   \n",
       "1        Prestação de serviço na confecção de Chaves         5234.00   \n",
       "\n",
       "       nome_empresa data_inicio_vigencia data_fim_vigencia  tempo_contrato  \n",
       "0  Thomas Jefferson           2014-12-20        2015-12-19             364  \n",
       "1     Chaveiro City           2015-02-26        2015-12-31             308  "
      ]
     },
     "execution_count": 151,
     "metadata": {},
     "output_type": "execute_result"
    }
   ],
   "source": [
    "dfContratosFinal.head(2)"
   ]
  },
  {
   "cell_type": "code",
   "execution_count": 143,
   "id": "944750a4",
   "metadata": {},
   "outputs": [],
   "source": [
    "dfContratosFinal.reset_index(drop=True, inplace=True)"
   ]
  },
  {
   "cell_type": "markdown",
   "id": "d9411ccb",
   "metadata": {},
   "source": [
    "### Carregamento de dados"
   ]
  },
  {
   "cell_type": "code",
   "execution_count": 150,
   "id": "e3391467",
   "metadata": {},
   "outputs": [],
   "source": [
    "credenciais = service_account.Credentials.from_service_account_file(filename='chaveBigQuery.json'\n",
    "                                                                    ,scopes=[\"https://www.googleapis.com/auth/cloud-platform\"]\n",
    "                                                                   )"
   ]
  },
  {
   "cell_type": "code",
   "execution_count": 155,
   "id": "a729d8ec",
   "metadata": {},
   "outputs": [
    {
     "name": "stderr",
     "output_type": "stream",
     "text": [
      "100%|████████████████████████████████████████████████████████████████████████████████████████████| 1/1 [00:00<?, ?it/s]\n"
     ]
    }
   ],
   "source": [
    "dfContratosFinal.to_gbq(credentials=credenciais,\n",
    "                       destination_table='cursoELTBasico.etl_csv',\n",
    "                       if_exists='replace',\n",
    "                        table_schema=[{'name':'data_inicio_vigencia', 'type':'DATE'},\n",
    "                                       {'name':'data_fim_vigencia', 'type':'DATE'}\n",
    "                                      ]\n",
    "                       )"
   ]
  },
  {
   "cell_type": "code",
   "execution_count": 154,
   "id": "69cdaf1b",
   "metadata": {},
   "outputs": [
    {
     "name": "stdout",
     "output_type": "stream",
     "text": [
      "Collecting pandas-gbq\n",
      "  Downloading pandas_gbq-0.17.8-py2.py3-none-any.whl (25 kB)\n",
      "Requirement already satisfied: setuptools in c:\\users\\luiz_\\anaconda3\\lib\\site-packages (from pandas-gbq) (58.0.4)\n",
      "Collecting google-cloud-bigquery!=2.4.*,<4.0.0dev,>=1.27.2\n",
      "  Downloading google_cloud_bigquery-3.3.2-py2.py3-none-any.whl (211 kB)\n",
      "Collecting google-api-core!=2.0.*,!=2.1.*,!=2.2.*,!=2.3.0,<3.0.0dev,>=1.31.5\n",
      "  Downloading google_api_core-2.10.1-py3-none-any.whl (115 kB)\n",
      "Collecting pydata-google-auth\n",
      "  Downloading pydata_google_auth-1.4.0-py2.py3-none-any.whl (14 kB)\n",
      "Requirement already satisfied: pandas>=0.24.2 in c:\\users\\luiz_\\anaconda3\\lib\\site-packages (from pandas-gbq) (1.3.4)\n",
      "Collecting google-auth-oauthlib>=0.0.1\n",
      "  Downloading google_auth_oauthlib-0.5.3-py2.py3-none-any.whl (19 kB)\n",
      "Collecting google-cloud-bigquery-storage<3.0.0dev,>=1.1.0\n",
      "  Downloading google_cloud_bigquery_storage-2.16.0-py2.py3-none-any.whl (185 kB)\n",
      "Collecting pyarrow<10.0dev,>=3.0.0\n",
      "  Downloading pyarrow-9.0.0-cp39-cp39-win_amd64.whl (19.6 MB)\n",
      "Requirement already satisfied: numpy>=1.16.6 in c:\\users\\luiz_\\anaconda3\\lib\\site-packages (from pandas-gbq) (1.20.3)\n",
      "Collecting db-dtypes<2.0.0,>=0.3.1\n",
      "  Downloading db_dtypes-1.0.4-py2.py3-none-any.whl (14 kB)\n",
      "Requirement already satisfied: google-auth>=1.25.0 in c:\\users\\luiz_\\anaconda3\\lib\\site-packages (from pandas-gbq) (2.11.1)\n",
      "Requirement already satisfied: packaging>=17.0 in c:\\users\\luiz_\\anaconda3\\lib\\site-packages (from db-dtypes<2.0.0,>=0.3.1->pandas-gbq) (21.0)\n",
      "Collecting protobuf<5.0.0dev,>=3.20.1\n",
      "  Downloading protobuf-4.21.6-cp39-cp39-win_amd64.whl (525 kB)\n",
      "Requirement already satisfied: requests<3.0.0dev,>=2.18.0 in c:\\users\\luiz_\\anaconda3\\lib\\site-packages (from google-api-core!=2.0.*,!=2.1.*,!=2.2.*,!=2.3.0,<3.0.0dev,>=1.31.5->pandas-gbq) (2.26.0)\n",
      "Collecting googleapis-common-protos<2.0dev,>=1.56.2\n",
      "  Downloading googleapis_common_protos-1.56.4-py2.py3-none-any.whl (211 kB)\n",
      "Requirement already satisfied: rsa<5,>=3.1.4 in c:\\users\\luiz_\\anaconda3\\lib\\site-packages (from google-auth>=1.25.0->pandas-gbq) (4.9)\n",
      "Requirement already satisfied: pyasn1-modules>=0.2.1 in c:\\users\\luiz_\\anaconda3\\lib\\site-packages (from google-auth>=1.25.0->pandas-gbq) (0.2.8)\n",
      "Requirement already satisfied: cachetools<6.0,>=2.0.0 in c:\\users\\luiz_\\anaconda3\\lib\\site-packages (from google-auth>=1.25.0->pandas-gbq) (5.2.0)\n",
      "Requirement already satisfied: six>=1.9.0 in c:\\users\\luiz_\\anaconda3\\lib\\site-packages (from google-auth>=1.25.0->pandas-gbq) (1.16.0)\n",
      "Collecting requests-oauthlib>=0.7.0\n",
      "  Downloading requests_oauthlib-1.3.1-py2.py3-none-any.whl (23 kB)\n",
      "Collecting google-cloud-core<3.0.0dev,>=1.4.1\n",
      "  Downloading google_cloud_core-2.3.2-py2.py3-none-any.whl (29 kB)\n",
      "Collecting proto-plus<2.0.0dev,>=1.22.0\n",
      "  Downloading proto_plus-1.22.1-py3-none-any.whl (47 kB)\n",
      "Collecting grpcio<2.0dev,>=1.47.0\n",
      "  Downloading grpcio-1.48.1-cp39-cp39-win_amd64.whl (3.6 MB)\n",
      "Requirement already satisfied: python-dateutil<3.0dev,>=2.7.2 in c:\\users\\luiz_\\anaconda3\\lib\\site-packages (from google-cloud-bigquery!=2.4.*,<4.0.0dev,>=1.27.2->pandas-gbq) (2.8.2)\n",
      "Collecting google-resumable-media<3.0dev,>=0.6.0\n",
      "  Downloading google_resumable_media-2.3.3-py2.py3-none-any.whl (76 kB)\n",
      "Collecting grpcio-status<2.0dev,>=1.33.2\n",
      "  Downloading grpcio_status-1.48.1-py3-none-any.whl (14 kB)\n",
      "Collecting google-crc32c<2.0dev,>=1.0\n",
      "  Downloading google_crc32c-1.5.0-cp39-cp39-win_amd64.whl (27 kB)\n",
      "Requirement already satisfied: pyparsing>=2.0.2 in c:\\users\\luiz_\\anaconda3\\lib\\site-packages (from packaging>=17.0->db-dtypes<2.0.0,>=0.3.1->pandas-gbq) (3.0.4)\n",
      "Requirement already satisfied: pytz>=2017.3 in c:\\users\\luiz_\\anaconda3\\lib\\site-packages (from pandas>=0.24.2->pandas-gbq) (2021.3)\n",
      "Requirement already satisfied: pyasn1<0.5.0,>=0.4.6 in c:\\users\\luiz_\\anaconda3\\lib\\site-packages (from pyasn1-modules>=0.2.1->google-auth>=1.25.0->pandas-gbq) (0.4.8)\n",
      "Requirement already satisfied: urllib3<1.27,>=1.21.1 in c:\\users\\luiz_\\anaconda3\\lib\\site-packages (from requests<3.0.0dev,>=2.18.0->google-api-core!=2.0.*,!=2.1.*,!=2.2.*,!=2.3.0,<3.0.0dev,>=1.31.5->pandas-gbq) (1.26.7)\n",
      "Requirement already satisfied: certifi>=2017.4.17 in c:\\users\\luiz_\\anaconda3\\lib\\site-packages (from requests<3.0.0dev,>=2.18.0->google-api-core!=2.0.*,!=2.1.*,!=2.2.*,!=2.3.0,<3.0.0dev,>=1.31.5->pandas-gbq) (2021.10.8)\n",
      "Requirement already satisfied: idna<4,>=2.5 in c:\\users\\luiz_\\anaconda3\\lib\\site-packages (from requests<3.0.0dev,>=2.18.0->google-api-core!=2.0.*,!=2.1.*,!=2.2.*,!=2.3.0,<3.0.0dev,>=1.31.5->pandas-gbq) (3.2)\n",
      "Requirement already satisfied: charset-normalizer~=2.0.0 in c:\\users\\luiz_\\anaconda3\\lib\\site-packages (from requests<3.0.0dev,>=2.18.0->google-api-core!=2.0.*,!=2.1.*,!=2.2.*,!=2.3.0,<3.0.0dev,>=1.31.5->pandas-gbq) (2.0.4)\n",
      "Collecting oauthlib>=3.0.0\n",
      "  Downloading oauthlib-3.2.1-py3-none-any.whl (151 kB)\n",
      "Installing collected packages: protobuf, grpcio, googleapis-common-protos, oauthlib, grpcio-status, google-api-core, requests-oauthlib, proto-plus, google-crc32c, pyarrow, google-resumable-media, google-cloud-core, google-cloud-bigquery-storage, google-auth-oauthlib, pydata-google-auth, google-cloud-bigquery, db-dtypes, pandas-gbq\n",
      "Successfully installed db-dtypes-1.0.4 google-api-core-2.10.1 google-auth-oauthlib-0.5.3 google-cloud-bigquery-3.3.2 google-cloud-bigquery-storage-2.16.0 google-cloud-core-2.3.2 google-crc32c-1.5.0 google-resumable-media-2.3.3 googleapis-common-protos-1.56.4 grpcio-1.48.1 grpcio-status-1.48.1 oauthlib-3.2.1 pandas-gbq-0.17.8 proto-plus-1.22.1 protobuf-4.21.6 pyarrow-9.0.0 pydata-google-auth-1.4.0 requests-oauthlib-1.3.1\n",
      "Note: you may need to restart the kernel to use updated packages.\n"
     ]
    }
   ],
   "source": []
  },
  {
   "cell_type": "code",
   "execution_count": null,
   "id": "738423ad",
   "metadata": {},
   "outputs": [],
   "source": []
  }
 ],
 "metadata": {
  "kernelspec": {
   "display_name": "Python 3 (ipykernel)",
   "language": "python",
   "name": "python3"
  },
  "language_info": {
   "codemirror_mode": {
    "name": "ipython",
    "version": 3
   },
   "file_extension": ".py",
   "mimetype": "text/x-python",
   "name": "python",
   "nbconvert_exporter": "python",
   "pygments_lexer": "ipython3",
   "version": "3.9.7"
  }
 },
 "nbformat": 4,
 "nbformat_minor": 5
}
