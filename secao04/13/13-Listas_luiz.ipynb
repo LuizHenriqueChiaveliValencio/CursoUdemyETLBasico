{
 "cells": [
  {
   "cell_type": "markdown",
   "id": "6f2cde99",
   "metadata": {},
   "source": [
    "## Definicao de lista\n",
    "#### E um objeto representado por uma sequencia de outros objetos. Esses objetos são separados por virgula e iniciados e terminados pelos colchetes[ ]."
   ]
  },
  {
   "cell_type": "code",
   "execution_count": 11,
   "id": "de5b6bd9",
   "metadata": {},
   "outputs": [],
   "source": [
    "# Criando lsitas\n",
    "lst = [1,2,3]\n",
    "type(lst)"
   ]
  },
  {
   "cell_type": "code",
   "execution_count": 12,
   "id": "a38ce8e0",
   "metadata": {},
   "outputs": [
    {
     "data": {
      "text/plain": [
       "[1, 2, 3]"
      ]
     },
     "execution_count": 12,
     "metadata": {},
     "output_type": "execute_result"
    }
   ],
   "source": [
    "lst"
   ]
  },
  {
   "cell_type": "code",
   "execution_count": 19,
   "id": "2b858bec",
   "metadata": {},
   "outputs": [],
   "source": [
    "# formas de criar listas\n",
    "lst = [1,2,3]\n",
    "lst2 = list((1,2,3,4,5,6))\n",
    "lst3 = list([1,2,3,4,5,6])"
   ]
  },
  {
   "cell_type": "code",
   "execution_count": 20,
   "id": "1837eb3a",
   "metadata": {},
   "outputs": [
    {
     "data": {
      "text/plain": [
       "[1, 2, 3]"
      ]
     },
     "execution_count": 20,
     "metadata": {},
     "output_type": "execute_result"
    }
   ],
   "source": [
    "lst"
   ]
  },
  {
   "cell_type": "code",
   "execution_count": 21,
   "id": "31d7aa1e",
   "metadata": {},
   "outputs": [
    {
     "data": {
      "text/plain": [
       "[1, 2, 3, 4, 5, 6]"
      ]
     },
     "execution_count": 21,
     "metadata": {},
     "output_type": "execute_result"
    }
   ],
   "source": [
    "lst2"
   ]
  },
  {
   "cell_type": "code",
   "execution_count": 23,
   "id": "5de846de",
   "metadata": {},
   "outputs": [
    {
     "data": {
      "text/plain": [
       "[1, 2, 3, 4, 5, 6]"
      ]
     },
     "execution_count": 23,
     "metadata": {},
     "output_type": "execute_result"
    }
   ],
   "source": [
    "lst3"
   ]
  },
  {
   "cell_type": "code",
   "execution_count": 27,
   "id": "a99503de",
   "metadata": {},
   "outputs": [
    {
     "name": "stdout",
     "output_type": "stream",
     "text": [
      "[]\n",
      "[1]\n",
      "[1, 2]\n",
      "[1, 2, 3]\n",
      "[1, 2, 3, 4]\n",
      "[1, 2, 3, 4, 5]\n",
      "[1, 2, 3, 4, 5, 6]\n",
      "[1, 2, 3, 4, 5, 6, 7]\n",
      "[1, 2, 3, 4, 5, 6, 7, 8]\n",
      "[1, 2, 3, 4, 5, 6, 7, 8, 9]\n"
     ]
    }
   ],
   "source": [
    "# Criando uma lista com um for\n",
    "lst5=[]\n",
    "\n",
    "for i in range(10):\n",
    "    if i != 0:\n",
    "        lst5.append(i)\n",
    "    print(lst5)\n",
    "        "
   ]
  },
  {
   "cell_type": "markdown",
   "id": "55931dc8",
   "metadata": {},
   "source": [
    "#### Acessando valores da lista"
   ]
  },
  {
   "cell_type": "code",
   "execution_count": 36,
   "id": "437bfc75",
   "metadata": {},
   "outputs": [],
   "source": [
    "#Criando uma lista com outra lista\n",
    "lts7 = [1,(1,2,3)]"
   ]
  },
  {
   "cell_type": "code",
   "execution_count": 37,
   "id": "ff4f7f4b",
   "metadata": {},
   "outputs": [
    {
     "data": {
      "text/plain": [
       "1"
      ]
     },
     "execution_count": 37,
     "metadata": {},
     "output_type": "execute_result"
    }
   ],
   "source": [
    "#acessando a lista\n",
    "lst5[0]"
   ]
  },
  {
   "cell_type": "code",
   "execution_count": 44,
   "id": "3d8fb43a",
   "metadata": {},
   "outputs": [
    {
     "data": {
      "text/plain": [
       "3"
      ]
     },
     "execution_count": 44,
     "metadata": {},
     "output_type": "execute_result"
    }
   ],
   "source": [
    "lts7[1][2]"
   ]
  },
  {
   "cell_type": "markdown",
   "id": "5163bed0",
   "metadata": {},
   "source": [
    "### Juntando listas"
   ]
  },
  {
   "cell_type": "code",
   "execution_count": 46,
   "id": "6862df66",
   "metadata": {},
   "outputs": [
    {
     "data": {
      "text/plain": [
       "[1, 2, 3, 4, 5, 6, 7, 8, 9]"
      ]
     },
     "execution_count": 46,
     "metadata": {},
     "output_type": "execute_result"
    }
   ],
   "source": [
    "lst5"
   ]
  },
  {
   "cell_type": "code",
   "execution_count": 47,
   "id": "3a793c6c",
   "metadata": {},
   "outputs": [
    {
     "data": {
      "text/plain": [
       "[1, (1, 2, 3)]"
      ]
     },
     "execution_count": 47,
     "metadata": {},
     "output_type": "execute_result"
    }
   ],
   "source": [
    "lts7"
   ]
  },
  {
   "cell_type": "code",
   "execution_count": 48,
   "id": "ca78347c",
   "metadata": {},
   "outputs": [
    {
     "data": {
      "text/plain": [
       "[1, 2, 3, 4, 5, 6, 7, 8, 9, 1, (1, 2, 3)]"
      ]
     },
     "execution_count": 48,
     "metadata": {},
     "output_type": "execute_result"
    }
   ],
   "source": [
    "lst5 + lts7"
   ]
  },
  {
   "cell_type": "code",
   "execution_count": 49,
   "id": "61520491",
   "metadata": {},
   "outputs": [
    {
     "data": {
      "text/plain": [
       "[1,\n",
       " 2,\n",
       " 3,\n",
       " 4,\n",
       " 5,\n",
       " 6,\n",
       " 7,\n",
       " 8,\n",
       " 9,\n",
       " 1,\n",
       " 2,\n",
       " 3,\n",
       " 4,\n",
       " 5,\n",
       " 6,\n",
       " 7,\n",
       " 8,\n",
       " 9,\n",
       " 1,\n",
       " 2,\n",
       " 3,\n",
       " 4,\n",
       " 5,\n",
       " 6,\n",
       " 7,\n",
       " 8,\n",
       " 9]"
      ]
     },
     "execution_count": 49,
     "metadata": {},
     "output_type": "execute_result"
    }
   ],
   "source": [
    "# posso multiplicar elementos da lista\n",
    "lst5*3"
   ]
  },
  {
   "cell_type": "code",
   "execution_count": null,
   "id": "45c4274c",
   "metadata": {},
   "outputs": [],
   "source": []
  }
 ],
 "metadata": {
  "kernelspec": {
   "display_name": "Python 3 (ipykernel)",
   "language": "python",
   "name": "python3"
  },
  "language_info": {
   "codemirror_mode": {
    "name": "ipython",
    "version": 3
   },
   "file_extension": ".py",
   "mimetype": "text/x-python",
   "name": "python",
   "nbconvert_exporter": "python",
   "pygments_lexer": "ipython3",
   "version": "3.9.7"
  }
 },
 "nbformat": 4,
 "nbformat_minor": 5
}
